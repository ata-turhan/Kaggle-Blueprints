{
 "cells": [
  {
   "cell_type": "markdown",
   "metadata": {},
   "source": [
    "<h1 style=\"font-size:60px;\"> <center> TABULAR NOTEBOOK BLUEPRINT </center> </h1>"
   ]
  },
  {
   "cell_type": "code",
   "execution_count": 20,
   "metadata": {},
   "outputs": [],
   "source": [
    "import datetime as dt\n",
    "import os\n",
    "import signal\n",
    "import sys\n",
    "import time\n",
    "import warnings\n",
    "from dataclasses import dataclass\n",
    "\n",
    "import matplotlib.pyplot as plt\n",
    "import mlflow\n",
    "import numpy as np\n",
    "import optuna\n",
    "import pandas as pd\n",
    "\n",
    "# import shap\n",
    "from catboost import CatBoostClassifier\n",
    "from dataprep.eda import create_report\n",
    "from fastai.tabular.core import df_shrink\n",
    "from IPython.display import clear_output\n",
    "from lightgbm import LGBMClassifier\n",
    "from optuna.integration import (\n",
    "    CatBoostPruningCallback,\n",
    "    LightGBMPruningCallback,\n",
    "    XGBoostPruningCallback,\n",
    ")\n",
    "from scipy.stats import mode\n",
    "from sklearn.ensemble import HistGradientBoostingClassifier\n",
    "from sklearn.impute import SimpleImputer\n",
    "from sklearn.metrics import classification_report\n",
    "from sklearn.model_selection import (\n",
    "    StratifiedKFold,\n",
    "    cross_val_score,\n",
    "    train_test_split,\n",
    ")\n",
    "from sklearn.neural_network import MLPClassifier\n",
    "from sklearn.preprocessing import (\n",
    "    LabelEncoder,\n",
    "    MinMaxScaler,\n",
    "    PolynomialFeatures,\n",
    ")\n",
    "from tpot import TPOTClassifier\n",
    "from xgboost import DMatrix, XGBClassifier, cv, plot_importance"
   ]
  },
  {
   "cell_type": "markdown",
   "metadata": {},
   "source": [
    "<h1 style=\"font-size:50px;\"> <center> CONSTANTS & CONFIGURATION</center> </h1>"
   ]
  },
  {
   "cell_type": "code",
   "execution_count": 4,
   "metadata": {},
   "outputs": [],
   "source": [
    "@dataclass\n",
    "class C:\n",
    "    RANDOM_SEED = 42\n",
    "    KFOLD_SPLIT = 5\n",
    "    EVAL_METRIC = \"accuracy\"\n",
    "    HO_TRIAL = 2\n",
    "    USE_HISTGBM: = True\n",
    "    USE_LIGHTGBM = True\n",
    "    USE_XGBOOST = True\n",
    "    USE_CATBOOST = True"
   ]
  },
  {
   "cell_type": "code",
   "execution_count": 5,
   "metadata": {},
   "outputs": [
    {
     "data": {
      "application/javascript": [
       "if (!(\"Notification\" in window)) {\n",
       "    alert(\"This browser does not support desktop notifications, so the %%notify magic will not work.\");\n",
       "} else if (Notification.permission !== 'granted' && Notification.permission !== 'denied') {\n",
       "    Notification.requestPermission(function (permission) {\n",
       "        if(!('permission' in Notification)) {\n",
       "            Notification.permission = permission;\n",
       "        }\n",
       "    })\n",
       "}\n"
      ],
      "text/plain": [
       "<IPython.core.display.Javascript object>"
      ]
     },
     "metadata": {},
     "output_type": "display_data"
    }
   ],
   "source": [
    "# init_datatables_mode()\n",
    "%load_ext jupyternotify"
   ]
  },
  {
   "cell_type": "code",
   "execution_count": 6,
   "metadata": {},
   "outputs": [],
   "source": [
    "warnings.filterwarnings(\"ignore\")"
   ]
  },
  {
   "cell_type": "code",
   "execution_count": 7,
   "metadata": {},
   "outputs": [],
   "source": [
    "sys.path.append(\"../logger\")\n",
    "import logger\n",
    "\n",
    "log = logger.setup_applevel_logger(\n",
    "    file_name=\"classification blueprint.log\",\n",
    ")"
   ]
  },
  {
   "cell_type": "markdown",
   "metadata": {},
   "source": [
    "<h1 style=\"font-size:50px;\"> <center> READ DATA </center> </h1>"
   ]
  },
  {
   "cell_type": "code",
   "execution_count": 8,
   "metadata": {},
   "outputs": [
    {
     "data": {
      "text/html": [
       "<div>\n",
       "<style scoped>\n",
       "    .dataframe tbody tr th:only-of-type {\n",
       "        vertical-align: middle;\n",
       "    }\n",
       "\n",
       "    .dataframe tbody tr th {\n",
       "        vertical-align: top;\n",
       "    }\n",
       "\n",
       "    .dataframe thead th {\n",
       "        text-align: right;\n",
       "    }\n",
       "</style>\n",
       "<table border=\"1\" class=\"dataframe\">\n",
       "  <thead>\n",
       "    <tr style=\"text-align: right;\">\n",
       "      <th></th>\n",
       "      <th>PassengerId</th>\n",
       "      <th>Survived</th>\n",
       "      <th>Pclass</th>\n",
       "      <th>Name</th>\n",
       "      <th>Sex</th>\n",
       "      <th>Age</th>\n",
       "      <th>SibSp</th>\n",
       "      <th>Parch</th>\n",
       "      <th>Ticket</th>\n",
       "      <th>Fare</th>\n",
       "      <th>Cabin</th>\n",
       "      <th>Embarked</th>\n",
       "    </tr>\n",
       "  </thead>\n",
       "  <tbody>\n",
       "    <tr>\n",
       "      <th>0</th>\n",
       "      <td>1</td>\n",
       "      <td>0</td>\n",
       "      <td>3</td>\n",
       "      <td>Braund, Mr. Owen Harris</td>\n",
       "      <td>male</td>\n",
       "      <td>22.0</td>\n",
       "      <td>1</td>\n",
       "      <td>0</td>\n",
       "      <td>A/5 21171</td>\n",
       "      <td>7.2500</td>\n",
       "      <td>NaN</td>\n",
       "      <td>S</td>\n",
       "    </tr>\n",
       "    <tr>\n",
       "      <th>1</th>\n",
       "      <td>2</td>\n",
       "      <td>1</td>\n",
       "      <td>1</td>\n",
       "      <td>Cumings, Mrs. John Bradley (Florence Briggs Thayer)</td>\n",
       "      <td>female</td>\n",
       "      <td>38.0</td>\n",
       "      <td>1</td>\n",
       "      <td>0</td>\n",
       "      <td>PC 17599</td>\n",
       "      <td>71.2833</td>\n",
       "      <td>C85</td>\n",
       "      <td>C</td>\n",
       "    </tr>\n",
       "    <tr>\n",
       "      <th>2</th>\n",
       "      <td>3</td>\n",
       "      <td>1</td>\n",
       "      <td>3</td>\n",
       "      <td>Heikkinen, Miss. Laina</td>\n",
       "      <td>female</td>\n",
       "      <td>26.0</td>\n",
       "      <td>0</td>\n",
       "      <td>0</td>\n",
       "      <td>STON/O2. 3101282</td>\n",
       "      <td>7.9250</td>\n",
       "      <td>NaN</td>\n",
       "      <td>S</td>\n",
       "    </tr>\n",
       "    <tr>\n",
       "      <th>3</th>\n",
       "      <td>4</td>\n",
       "      <td>1</td>\n",
       "      <td>1</td>\n",
       "      <td>Futrelle, Mrs. Jacques Heath (Lily May Peel)</td>\n",
       "      <td>female</td>\n",
       "      <td>35.0</td>\n",
       "      <td>1</td>\n",
       "      <td>0</td>\n",
       "      <td>113803</td>\n",
       "      <td>53.1000</td>\n",
       "      <td>C123</td>\n",
       "      <td>S</td>\n",
       "    </tr>\n",
       "    <tr>\n",
       "      <th>4</th>\n",
       "      <td>5</td>\n",
       "      <td>0</td>\n",
       "      <td>3</td>\n",
       "      <td>Allen, Mr. William Henry</td>\n",
       "      <td>male</td>\n",
       "      <td>35.0</td>\n",
       "      <td>0</td>\n",
       "      <td>0</td>\n",
       "      <td>373450</td>\n",
       "      <td>8.0500</td>\n",
       "      <td>NaN</td>\n",
       "      <td>S</td>\n",
       "    </tr>\n",
       "    <tr>\n",
       "      <th>...</th>\n",
       "      <td>...</td>\n",
       "      <td>...</td>\n",
       "      <td>...</td>\n",
       "      <td>...</td>\n",
       "      <td>...</td>\n",
       "      <td>...</td>\n",
       "      <td>...</td>\n",
       "      <td>...</td>\n",
       "      <td>...</td>\n",
       "      <td>...</td>\n",
       "      <td>...</td>\n",
       "      <td>...</td>\n",
       "    </tr>\n",
       "    <tr>\n",
       "      <th>886</th>\n",
       "      <td>887</td>\n",
       "      <td>0</td>\n",
       "      <td>2</td>\n",
       "      <td>Montvila, Rev. Juozas</td>\n",
       "      <td>male</td>\n",
       "      <td>27.0</td>\n",
       "      <td>0</td>\n",
       "      <td>0</td>\n",
       "      <td>211536</td>\n",
       "      <td>13.0000</td>\n",
       "      <td>NaN</td>\n",
       "      <td>S</td>\n",
       "    </tr>\n",
       "    <tr>\n",
       "      <th>887</th>\n",
       "      <td>888</td>\n",
       "      <td>1</td>\n",
       "      <td>1</td>\n",
       "      <td>Graham, Miss. Margaret Edith</td>\n",
       "      <td>female</td>\n",
       "      <td>19.0</td>\n",
       "      <td>0</td>\n",
       "      <td>0</td>\n",
       "      <td>112053</td>\n",
       "      <td>30.0000</td>\n",
       "      <td>B42</td>\n",
       "      <td>S</td>\n",
       "    </tr>\n",
       "    <tr>\n",
       "      <th>888</th>\n",
       "      <td>889</td>\n",
       "      <td>0</td>\n",
       "      <td>3</td>\n",
       "      <td>Johnston, Miss. Catherine Helen \"Carrie\"</td>\n",
       "      <td>female</td>\n",
       "      <td>NaN</td>\n",
       "      <td>1</td>\n",
       "      <td>2</td>\n",
       "      <td>W./C. 6607</td>\n",
       "      <td>23.4500</td>\n",
       "      <td>NaN</td>\n",
       "      <td>S</td>\n",
       "    </tr>\n",
       "    <tr>\n",
       "      <th>889</th>\n",
       "      <td>890</td>\n",
       "      <td>1</td>\n",
       "      <td>1</td>\n",
       "      <td>Behr, Mr. Karl Howell</td>\n",
       "      <td>male</td>\n",
       "      <td>26.0</td>\n",
       "      <td>0</td>\n",
       "      <td>0</td>\n",
       "      <td>111369</td>\n",
       "      <td>30.0000</td>\n",
       "      <td>C148</td>\n",
       "      <td>C</td>\n",
       "    </tr>\n",
       "    <tr>\n",
       "      <th>890</th>\n",
       "      <td>891</td>\n",
       "      <td>0</td>\n",
       "      <td>3</td>\n",
       "      <td>Dooley, Mr. Patrick</td>\n",
       "      <td>male</td>\n",
       "      <td>32.0</td>\n",
       "      <td>0</td>\n",
       "      <td>0</td>\n",
       "      <td>370376</td>\n",
       "      <td>7.7500</td>\n",
       "      <td>NaN</td>\n",
       "      <td>Q</td>\n",
       "    </tr>\n",
       "  </tbody>\n",
       "</table>\n",
       "<p>891 rows × 12 columns</p>\n",
       "</div>"
      ],
      "text/plain": [
       "     PassengerId  Survived  Pclass  \\\n",
       "0              1         0       3   \n",
       "1              2         1       1   \n",
       "2              3         1       3   \n",
       "3              4         1       1   \n",
       "4              5         0       3   \n",
       "..           ...       ...     ...   \n",
       "886          887         0       2   \n",
       "887          888         1       1   \n",
       "888          889         0       3   \n",
       "889          890         1       1   \n",
       "890          891         0       3   \n",
       "\n",
       "                                                    Name     Sex   Age  SibSp  \\\n",
       "0                                Braund, Mr. Owen Harris    male  22.0      1   \n",
       "1    Cumings, Mrs. John Bradley (Florence Briggs Thayer)  female  38.0      1   \n",
       "2                                 Heikkinen, Miss. Laina  female  26.0      0   \n",
       "3           Futrelle, Mrs. Jacques Heath (Lily May Peel)  female  35.0      1   \n",
       "4                               Allen, Mr. William Henry    male  35.0      0   \n",
       "..                                                   ...     ...   ...    ...   \n",
       "886                                Montvila, Rev. Juozas    male  27.0      0   \n",
       "887                         Graham, Miss. Margaret Edith  female  19.0      0   \n",
       "888             Johnston, Miss. Catherine Helen \"Carrie\"  female   NaN      1   \n",
       "889                                Behr, Mr. Karl Howell    male  26.0      0   \n",
       "890                                  Dooley, Mr. Patrick    male  32.0      0   \n",
       "\n",
       "     Parch            Ticket     Fare Cabin Embarked  \n",
       "0        0         A/5 21171   7.2500   NaN        S  \n",
       "1        0          PC 17599  71.2833   C85        C  \n",
       "2        0  STON/O2. 3101282   7.9250   NaN        S  \n",
       "3        0            113803  53.1000  C123        S  \n",
       "4        0            373450   8.0500   NaN        S  \n",
       "..     ...               ...      ...   ...      ...  \n",
       "886      0            211536  13.0000   NaN        S  \n",
       "887      0            112053  30.0000   B42        S  \n",
       "888      2        W./C. 6607  23.4500   NaN        S  \n",
       "889      0            111369  30.0000  C148        C  \n",
       "890      0            370376   7.7500   NaN        Q  \n",
       "\n",
       "[891 rows x 12 columns]"
      ]
     },
     "execution_count": 8,
     "metadata": {},
     "output_type": "execute_result"
    }
   ],
   "source": [
    "train_org = pd.read_csv(\"../input/train.csv\", delimiter=\",\")\n",
    "train_org"
   ]
  },
  {
   "cell_type": "code",
   "execution_count": 9,
   "metadata": {},
   "outputs": [
    {
     "data": {
      "text/html": [
       "<div>\n",
       "<style scoped>\n",
       "    .dataframe tbody tr th:only-of-type {\n",
       "        vertical-align: middle;\n",
       "    }\n",
       "\n",
       "    .dataframe tbody tr th {\n",
       "        vertical-align: top;\n",
       "    }\n",
       "\n",
       "    .dataframe thead th {\n",
       "        text-align: right;\n",
       "    }\n",
       "</style>\n",
       "<table border=\"1\" class=\"dataframe\">\n",
       "  <thead>\n",
       "    <tr style=\"text-align: right;\">\n",
       "      <th></th>\n",
       "      <th>PassengerId</th>\n",
       "      <th>Pclass</th>\n",
       "      <th>Name</th>\n",
       "      <th>Sex</th>\n",
       "      <th>Age</th>\n",
       "      <th>SibSp</th>\n",
       "      <th>Parch</th>\n",
       "      <th>Ticket</th>\n",
       "      <th>Fare</th>\n",
       "      <th>Cabin</th>\n",
       "      <th>Embarked</th>\n",
       "    </tr>\n",
       "  </thead>\n",
       "  <tbody>\n",
       "    <tr>\n",
       "      <th>0</th>\n",
       "      <td>892</td>\n",
       "      <td>3</td>\n",
       "      <td>Kelly, Mr. James</td>\n",
       "      <td>male</td>\n",
       "      <td>34.5</td>\n",
       "      <td>0</td>\n",
       "      <td>0</td>\n",
       "      <td>330911</td>\n",
       "      <td>7.8292</td>\n",
       "      <td>NaN</td>\n",
       "      <td>Q</td>\n",
       "    </tr>\n",
       "    <tr>\n",
       "      <th>1</th>\n",
       "      <td>893</td>\n",
       "      <td>3</td>\n",
       "      <td>Wilkes, Mrs. James (Ellen Needs)</td>\n",
       "      <td>female</td>\n",
       "      <td>47.0</td>\n",
       "      <td>1</td>\n",
       "      <td>0</td>\n",
       "      <td>363272</td>\n",
       "      <td>7.0000</td>\n",
       "      <td>NaN</td>\n",
       "      <td>S</td>\n",
       "    </tr>\n",
       "    <tr>\n",
       "      <th>2</th>\n",
       "      <td>894</td>\n",
       "      <td>2</td>\n",
       "      <td>Myles, Mr. Thomas Francis</td>\n",
       "      <td>male</td>\n",
       "      <td>62.0</td>\n",
       "      <td>0</td>\n",
       "      <td>0</td>\n",
       "      <td>240276</td>\n",
       "      <td>9.6875</td>\n",
       "      <td>NaN</td>\n",
       "      <td>Q</td>\n",
       "    </tr>\n",
       "    <tr>\n",
       "      <th>3</th>\n",
       "      <td>895</td>\n",
       "      <td>3</td>\n",
       "      <td>Wirz, Mr. Albert</td>\n",
       "      <td>male</td>\n",
       "      <td>27.0</td>\n",
       "      <td>0</td>\n",
       "      <td>0</td>\n",
       "      <td>315154</td>\n",
       "      <td>8.6625</td>\n",
       "      <td>NaN</td>\n",
       "      <td>S</td>\n",
       "    </tr>\n",
       "    <tr>\n",
       "      <th>4</th>\n",
       "      <td>896</td>\n",
       "      <td>3</td>\n",
       "      <td>Hirvonen, Mrs. Alexander (Helga E Lindqvist)</td>\n",
       "      <td>female</td>\n",
       "      <td>22.0</td>\n",
       "      <td>1</td>\n",
       "      <td>1</td>\n",
       "      <td>3101298</td>\n",
       "      <td>12.2875</td>\n",
       "      <td>NaN</td>\n",
       "      <td>S</td>\n",
       "    </tr>\n",
       "    <tr>\n",
       "      <th>...</th>\n",
       "      <td>...</td>\n",
       "      <td>...</td>\n",
       "      <td>...</td>\n",
       "      <td>...</td>\n",
       "      <td>...</td>\n",
       "      <td>...</td>\n",
       "      <td>...</td>\n",
       "      <td>...</td>\n",
       "      <td>...</td>\n",
       "      <td>...</td>\n",
       "      <td>...</td>\n",
       "    </tr>\n",
       "    <tr>\n",
       "      <th>413</th>\n",
       "      <td>1305</td>\n",
       "      <td>3</td>\n",
       "      <td>Spector, Mr. Woolf</td>\n",
       "      <td>male</td>\n",
       "      <td>NaN</td>\n",
       "      <td>0</td>\n",
       "      <td>0</td>\n",
       "      <td>A.5. 3236</td>\n",
       "      <td>8.0500</td>\n",
       "      <td>NaN</td>\n",
       "      <td>S</td>\n",
       "    </tr>\n",
       "    <tr>\n",
       "      <th>414</th>\n",
       "      <td>1306</td>\n",
       "      <td>1</td>\n",
       "      <td>Oliva y Ocana, Dona. Fermina</td>\n",
       "      <td>female</td>\n",
       "      <td>39.0</td>\n",
       "      <td>0</td>\n",
       "      <td>0</td>\n",
       "      <td>PC 17758</td>\n",
       "      <td>108.9000</td>\n",
       "      <td>C105</td>\n",
       "      <td>C</td>\n",
       "    </tr>\n",
       "    <tr>\n",
       "      <th>415</th>\n",
       "      <td>1307</td>\n",
       "      <td>3</td>\n",
       "      <td>Saether, Mr. Simon Sivertsen</td>\n",
       "      <td>male</td>\n",
       "      <td>38.5</td>\n",
       "      <td>0</td>\n",
       "      <td>0</td>\n",
       "      <td>SOTON/O.Q. 3101262</td>\n",
       "      <td>7.2500</td>\n",
       "      <td>NaN</td>\n",
       "      <td>S</td>\n",
       "    </tr>\n",
       "    <tr>\n",
       "      <th>416</th>\n",
       "      <td>1308</td>\n",
       "      <td>3</td>\n",
       "      <td>Ware, Mr. Frederick</td>\n",
       "      <td>male</td>\n",
       "      <td>NaN</td>\n",
       "      <td>0</td>\n",
       "      <td>0</td>\n",
       "      <td>359309</td>\n",
       "      <td>8.0500</td>\n",
       "      <td>NaN</td>\n",
       "      <td>S</td>\n",
       "    </tr>\n",
       "    <tr>\n",
       "      <th>417</th>\n",
       "      <td>1309</td>\n",
       "      <td>3</td>\n",
       "      <td>Peter, Master. Michael J</td>\n",
       "      <td>male</td>\n",
       "      <td>NaN</td>\n",
       "      <td>1</td>\n",
       "      <td>1</td>\n",
       "      <td>2668</td>\n",
       "      <td>22.3583</td>\n",
       "      <td>NaN</td>\n",
       "      <td>C</td>\n",
       "    </tr>\n",
       "  </tbody>\n",
       "</table>\n",
       "<p>418 rows × 11 columns</p>\n",
       "</div>"
      ],
      "text/plain": [
       "     PassengerId  Pclass                                          Name  \\\n",
       "0            892       3                              Kelly, Mr. James   \n",
       "1            893       3              Wilkes, Mrs. James (Ellen Needs)   \n",
       "2            894       2                     Myles, Mr. Thomas Francis   \n",
       "3            895       3                              Wirz, Mr. Albert   \n",
       "4            896       3  Hirvonen, Mrs. Alexander (Helga E Lindqvist)   \n",
       "..           ...     ...                                           ...   \n",
       "413         1305       3                            Spector, Mr. Woolf   \n",
       "414         1306       1                  Oliva y Ocana, Dona. Fermina   \n",
       "415         1307       3                  Saether, Mr. Simon Sivertsen   \n",
       "416         1308       3                           Ware, Mr. Frederick   \n",
       "417         1309       3                      Peter, Master. Michael J   \n",
       "\n",
       "        Sex   Age  SibSp  Parch              Ticket      Fare Cabin Embarked  \n",
       "0      male  34.5      0      0              330911    7.8292   NaN        Q  \n",
       "1    female  47.0      1      0              363272    7.0000   NaN        S  \n",
       "2      male  62.0      0      0              240276    9.6875   NaN        Q  \n",
       "3      male  27.0      0      0              315154    8.6625   NaN        S  \n",
       "4    female  22.0      1      1             3101298   12.2875   NaN        S  \n",
       "..      ...   ...    ...    ...                 ...       ...   ...      ...  \n",
       "413    male   NaN      0      0           A.5. 3236    8.0500   NaN        S  \n",
       "414  female  39.0      0      0            PC 17758  108.9000  C105        C  \n",
       "415    male  38.5      0      0  SOTON/O.Q. 3101262    7.2500   NaN        S  \n",
       "416    male   NaN      0      0              359309    8.0500   NaN        S  \n",
       "417    male   NaN      1      1                2668   22.3583   NaN        C  \n",
       "\n",
       "[418 rows x 11 columns]"
      ]
     },
     "execution_count": 9,
     "metadata": {},
     "output_type": "execute_result"
    }
   ],
   "source": [
    "test_org = pd.read_csv(\"../input/test.csv\", delimiter=\",\")\n",
    "test_org"
   ]
  },
  {
   "cell_type": "markdown",
   "metadata": {},
   "source": [
    "<h1 style=\"font-size:50px;\"> <center> EDA </center> </h1>"
   ]
  },
  {
   "cell_type": "markdown",
   "metadata": {},
   "source": [
    "<h1 style=\"font-size:40px;\"> <center>  Adversarial Validation  </center> </h1>"
   ]
  },
  {
   "cell_type": "code",
   "execution_count": 21,
   "metadata": {},
   "outputs": [
    {
     "name": "stdout",
     "output_type": "stream",
     "text": [
      "0    0.999471\n",
      "Name: test-auc-mean, dtype: float64\n"
     ]
    }
   ],
   "source": [
    "# select only the numerical features\n",
    "X_test = test_org.select_dtypes(include=[\"number\"]).copy()\n",
    "X_train = train_org.select_dtypes(include=[\"number\"]).copy()\n",
    "\n",
    "# drop the target column from the training data\n",
    "X_train = X_train.drop([\"Survived\"], axis=1)\n",
    "\n",
    "# add the train/test labels\n",
    "X_train[\"AV_label\"] = 0\n",
    "X_test[\"AV_label\"] = 1\n",
    "\n",
    "# make one big dataset\n",
    "all_data = pd.concat([X_train, X_test], axis=0, ignore_index=True)\n",
    "\n",
    "# shuffle\n",
    "all_data_shuffled = all_data.sample(frac=1)\n",
    "\n",
    "# create our DMatrix (the XGBoost data structure)\n",
    "X = all_data_shuffled.drop([\"AV_label\"], axis=1)\n",
    "y = all_data_shuffled[\"AV_label\"]\n",
    "XGBdata = DMatrix(data=X, label=y)\n",
    "\n",
    "# our XGBoost parameters\n",
    "params = {\n",
    "    \"objective\": \"binary:logistic\",\n",
    "    \"eval_metric\": \"logloss\",\n",
    "    \"learning_rate\": 0.05,\n",
    "    \"max_depth\": 5,\n",
    "}\n",
    "\n",
    "# perform cross validation with XGBoost\n",
    "cross_val_results = cv(\n",
    "    dtrain=XGBdata,\n",
    "    params=params,\n",
    "    nfold=5,\n",
    "    metrics=\"auc\",\n",
    "    num_boost_round=200,\n",
    "    early_stopping_rounds=20,\n",
    "    as_pandas=True,\n",
    ")\n",
    "\n",
    "# print out the final result\n",
    "print((cross_val_results[\"test-auc-mean\"]).tail(1))"
   ]
  },
  {
   "cell_type": "code",
   "execution_count": 22,
   "metadata": {},
   "outputs": [
    {
     "data": {
      "image/png": "[encoded data removed]",
      "text/plain": [
       "<Figure size 1200x400 with 1 Axes>"
      ]
     },
     "metadata": {},
     "output_type": "display_data"
    }
   ],
   "source": [
    "classifier = XGBClassifier(\n",
    "    eval_metric=\"logloss\", use_label_encoder=False\n",
    ")\n",
    "classifier.fit(X, y)\n",
    "fig, ax = plt.subplots(figsize=(12, 4))\n",
    "plot_importance(classifier, ax=ax)\n",
    "plt.show();"
   ]
  },
  {
   "cell_type": "code",
   "execution_count": 23,
   "metadata": {},
   "outputs": [],
   "source": [
    "X = X.drop([\"PassengerId\"], axis=1)"
   ]
  },
  {
   "cell_type": "code",
   "execution_count": 24,
   "metadata": {},
   "outputs": [
    {
     "name": "stdout",
     "output_type": "stream",
     "text": [
      "29    0.531164\n",
      "Name: test-auc-mean, dtype: float64\n"
     ]
    }
   ],
   "source": [
    "XGBdata = DMatrix(data=X, label=y)\n",
    "cross_val_results = cv(\n",
    "    dtrain=XGBdata,\n",
    "    params=params,\n",
    "    nfold=5,\n",
    "    metrics=\"auc\",\n",
    "    num_boost_round=200,\n",
    "    early_stopping_rounds=20,\n",
    "    as_pandas=True,\n",
    ")\n",
    "\n",
    "print((cross_val_results[\"test-auc-mean\"]).tail(1))"
   ]
  },
  {
   "cell_type": "markdown",
   "metadata": {},
   "source": [
    "<h1 style=\"font-size:40px;\"> <center>  Data Prep  </center> </h1>"
   ]
  },
  {
   "cell_type": "code",
   "execution_count": 6,
   "metadata": {},
   "outputs": [
    {
     "data": {
      "application/vnd.jupyter.widget-view+json": {
       "model_id": "",
       "version_major": 2,
       "version_minor": 0
      },
      "text/plain": [
       "  0%|                                                                                         | 0/1420 [00:00<…"
      ]
     },
     "metadata": {},
     "output_type": "display_data"
    },
    {
     "name": "stderr",
     "output_type": "stream",
     "text": [
      "invalid value encountered in divide\n",
      "The frame.append method is deprecated and will be removed from pandas in a future version. Use pandas.concat instead.\n",
      "The frame.append method is deprecated and will be removed from pandas in a future version. Use pandas.concat instead.\n",
      "The frame.append method is deprecated and will be removed from pandas in a future version. Use pandas.concat instead.\n",
      "The frame.append method is deprecated and will be removed from pandas in a future version. Use pandas.concat instead.\n"
     ]
    }
   ],
   "source": [
    "report = create_report(train, title=\"Titanic Data\")\n",
    "report.save(\"../Reports/Titanic Data Report\")"
   ]
  },
  {
   "cell_type": "markdown",
   "metadata": {},
   "source": [
    "<h1 style=\"font-size:50px;\"> <center> FEATURE ENGINEERING </center> </h1>"
   ]
  },
  {
   "cell_type": "markdown",
   "metadata": {},
   "source": [
    "<h1 style=\"font-size:40px;\"> <center> OPTIMIZE THE SPACE </center> </h1>"
   ]
  },
  {
   "cell_type": "code",
   "execution_count": null,
   "metadata": {},
   "outputs": [],
   "source": [
    "print(\n",
    "    f\"{train_org.memory_usage().sum()/(1024**2)} MB is used before df_shrink\"\n",
    ")\n",
    "train = df_shrink(train_org, int2uint=True)\n",
    "print(\n",
    "    f\"{train.memory_usage().sum()/(1024**2)} MB is used after df_shrink\"\n",
    ")"
   ]
  },
  {
   "cell_type": "code",
   "execution_count": null,
   "metadata": {},
   "outputs": [],
   "source": [
    "print(\n",
    "    f\"{test_org.memory_usage().sum()/(1024**2)} MB is used before df_shrink\"\n",
    ")\n",
    "test = df_shrink(train_org, int2uint=True)\n",
    "print(\n",
    "    f\"{test.memory_usage().sum()/(1024**2)} MB is used after df_shrink\"\n",
    ")"
   ]
  },
  {
   "cell_type": "markdown",
   "metadata": {},
   "source": [
    "<h1 style=\"font-size:40px;\"> <center> DATETIME CONVERSIONS </center> </h1>"
   ]
  },
  {
   "cell_type": "code",
   "execution_count": null,
   "metadata": {},
   "outputs": [],
   "source": [
    "# demo.columns = [column.strip() for column in demo.columns]\n",
    "# demo['Log'] = pd.to_datetime(demo['Log'], format='%d.%m.%Y %H:%M')\n",
    "# demo['Establishment_Date (Y-M)'] = demo['Establishment_Date'].dt.strftime('%Y.%m')\n",
    "# finance['Age'] = (dt.datetime.now() - pd.to_datetime(finance['Establishment_Date (Y-M)'])).astype('<m8[Y]')\n",
    "# finance[\"Financial Report Date (Y-M)\"] = finance[\"FINANCIAL_YEAR\"].astype(str) + \".\" + finance[\"FINANCIAL_MONTH\"].astype(str)"
   ]
  },
  {
   "cell_type": "markdown",
   "metadata": {},
   "source": [
    "<h1 style=\"font-size:40px;\"> <center> GROUPBY & AGGREGATION</center> </h1>"
   ]
  },
  {
   "cell_type": "code",
   "execution_count": 2,
   "metadata": {},
   "outputs": [],
   "source": [
    "# def flatten_cols(df):\n",
    "#    df.columns = ['_'.join(x) for x in df.columns.to_flat_index()]\n",
    "#    return df.reset_index()\n",
    "\n",
    "# username_agg_df = (\n",
    "#    tweets_df\n",
    "#    .groupby([\"username\"])                 # Group by username\n",
    "#    .agg({\"text\": \"count\",                 # Count tweets per username\n",
    "#         \"text_length\": \"mean\",           # Average tweet length per username\n",
    "#          \"created_at\": [\"sum\", \"min\", \"median\", \"max\", \"mean\", \"std\", \"quantile([0.25,0.75])\"]})   # Min and max date per username\n",
    "#    .pipe(flatten_cols)                    # Apply flatten_cols() to entire df\n",
    "# )"
   ]
  },
  {
   "cell_type": "markdown",
   "metadata": {},
   "source": [
    "<h1 style=\"font-size:40px;\"> <center> MERGE & SORTING </center> </h1>"
   ]
  },
  {
   "cell_type": "code",
   "execution_count": null,
   "metadata": {},
   "outputs": [],
   "source": [
    "# merged_data = pd.merge(finance, risk, how = \"left\", on='Customer_num')\n",
    "# demo.sort_values(by=['Customer_num', \"Log (Y-M)\"], inplace=True)"
   ]
  },
  {
   "cell_type": "markdown",
   "metadata": {},
   "source": [
    "<h1 style=\"font-size:40px;\"> <center> IMPUTING </center> </h1>"
   ]
  },
  {
   "cell_type": "code",
   "execution_count": null,
   "metadata": {},
   "outputs": [],
   "source": [
    "imp_mean = SimpleImputer(missing_values=pd.NA, strategy=\"mean\")\n",
    "imp_mean.fit(X_train)\n",
    "X_train = imp_mean.transform(X_train)\n",
    "X_test = imp_mean.transform(X_test)"
   ]
  },
  {
   "cell_type": "markdown",
   "metadata": {},
   "source": [
    "<h1 style=\"font-size:40px;\"> <center> GENERATING POLYNOMIAL FEATURES </center> </h1>"
   ]
  },
  {
   "cell_type": "code",
   "execution_count": null,
   "metadata": {},
   "outputs": [],
   "source": [
    "poly = PolynomialFeatures(3)\n",
    "X_train = poly.fit_transform(X_train)\n",
    "X_test = poly.transform(X_test)"
   ]
  },
  {
   "cell_type": "markdown",
   "metadata": {},
   "source": [
    "<h1 style=\"font-size:40px;\"> <center> DROP COLUMNS & LABEL ENCODING & SCALING </center> </h1>"
   ]
  },
  {
   "cell_type": "code",
   "execution_count": 16,
   "metadata": {},
   "outputs": [],
   "source": [
    "X_train_org = train.drop(\n",
    "    [\"PassengerId\", \"Name\", \"Ticket\", \"Cabin\", \"Survived\"], axis=1\n",
    ")\n",
    "y_train_org = train[\"Survived\"]\n",
    "X_test = test.drop(\n",
    "    [\"PassengerId\", \"Name\", \"Ticket\", \"Cabin\", \"Survived\"], axis=1\n",
    ")\n",
    "# priceData.rename(columns={\"Validfrom\": \"Date\", \"City Code\": \"CityCode\"}, inplace=True)"
   ]
  },
  {
   "cell_type": "code",
   "execution_count": 18,
   "metadata": {},
   "outputs": [],
   "source": [
    "cat_cols = [\n",
    "    col\n",
    "    for col in X_train_org.columns\n",
    "    if X_train_org[col].dtype in [\"O\", \"category\"]\n",
    "]\n",
    "num_cols = [col for col in X_train_org.columns if col not in cat_cols]"
   ]
  },
  {
   "cell_type": "code",
   "execution_count": 19,
   "metadata": {},
   "outputs": [],
   "source": [
    "X_train, X_val, y_train, y_val = train_test_split(\n",
    "    X_train_org,\n",
    "    y_train_org,\n",
    "    test_size=0.3,\n",
    "    random_state=C.RANDOM_SEED,\n",
    "    stratify=y_train_org,\n",
    ")"
   ]
  },
  {
   "cell_type": "code",
   "execution_count": 21,
   "metadata": {},
   "outputs": [],
   "source": [
    "le = LabelEncoder()\n",
    "for cat_col in cat_cols:\n",
    "    X_train[cat_col] = le.fit_transform(X_train[cat_col])\n",
    "    X_val[cat_col] = le.transform(X_val[cat_col])\n",
    "    X_test[cat_col] = le.transform(X_test[cat_col])"
   ]
  },
  {
   "cell_type": "code",
   "execution_count": 22,
   "metadata": {},
   "outputs": [],
   "source": [
    "scaler = MinMaxScaler()\n",
    "X_train = scaler.fit_transform(X_train)\n",
    "X_val = scaler.transform(X_val)"
   ]
  },
  {
   "cell_type": "markdown",
   "metadata": {},
   "source": [
    "<h1 style=\"font-size:40px;\"> <center> SAVE PREPROCESSED DATA </center> </h1>"
   ]
  },
  {
   "cell_type": "code",
   "execution_count": null,
   "metadata": {},
   "outputs": [],
   "source": [
    "X_train.to_csv(\"../input/train.csv\")\n",
    "X_test.to_csv(\"../input/test.csv\")"
   ]
  },
  {
   "cell_type": "markdown",
   "metadata": {},
   "source": [
    "<h1 style=\"font-size:40px;\"> <center> Mlflow Setup  </center> </h1>"
   ]
  },
  {
   "cell_type": "code",
   "execution_count": 10,
   "metadata": {},
   "outputs": [
    {
     "name": "stdout",
     "output_type": "stream",
     "text": [
      "Name: Classification with ML\n",
      "Artifact Location: file:///C:/Users/NEO/Desktop/Kaggle/Kaggle-Blueprints/Classification%20Blueprint%20with%20ML/mlruns/272633739088592373\n",
      "Lifecycle_stage: active\n",
      "Experiment ID: 272633739088592373\n"
     ]
    }
   ],
   "source": [
    "try:\n",
    "    experiment_id = mlflow.create_experiment(\"Classification with ML\")\n",
    "    experiment = mlflow.get_experiment(experiment_id)\n",
    "except:\n",
    "    experiment = mlflow.get_experiment_by_name(\"Classification with ML\")\n",
    "mlflow.set_tracking_uri(\"http://127.0.0.1:5000/\")\n",
    "\n",
    "print(f\"Name: {experiment.name}\")\n",
    "print(f\"Artifact Location: {experiment.artifact_location}\")\n",
    "print(f\"Lifecycle_stage: {experiment.lifecycle_stage}\")\n",
    "print(f\"Experiment ID: {experiment.experiment_id}\")"
   ]
  },
  {
   "cell_type": "markdown",
   "metadata": {},
   "source": [
    "<h1 style=\"font-size:60px;\"> <center> MACHINE LEARNING </center> </h1>"
   ]
  },
  {
   "cell_type": "markdown",
   "metadata": {},
   "source": [
    "<h1 style=\"font-size:50px;\"> <center> Modeling </center> </h1>"
   ]
  },
  {
   "cell_type": "markdown",
   "metadata": {},
   "source": [
    "<h1 style=\"font-size:40px;\"> <center> Hist GBM </center> </h1>"
   ]
  },
  {
   "cell_type": "code",
   "execution_count": null,
   "metadata": {},
   "outputs": [],
   "source": [
    "if C.USE_HISTGBM:\n",
    "    with mlflow.start_run(\n",
    "        experiment_id=experiment.experiment_id,\n",
    "        run_name=\"HistGBM Base Model\",\n",
    "    ) as run:\n",
    "        clf = HistGradientBoostingClassifier()\n",
    "        cv = StratifiedKFold(\n",
    "            n_splits=C.KFOLD_SPLIT,\n",
    "            shuffle=True,\n",
    "            random_state=C.RANDOM_SEED,\n",
    "        )\n",
    "        scores = cross_val_score(\n",
    "            clf, X_train, y_train, cv=cv, scoring=C.EVAL_METRIC\n",
    "        )\n",
    "        log.info(f\"{np.mean(scores) = }\")\n",
    "        mlflow.log_metric(f\"{C.EVAL_METRIC}\", np.mean(scores))"
   ]
  },
  {
   "cell_type": "markdown",
   "metadata": {},
   "source": [
    "<h1 style=\"font-size:40px;\"> <center> Light GBM </center> </h1>"
   ]
  },
  {
   "cell_type": "code",
   "execution_count": 12,
   "metadata": {},
   "outputs": [
    {
     "name": "stdout",
     "output_type": "stream",
     "text": [
      "2023-03-13 15:13:42,466[:19] - MyApp - INFO - np.mean(scores) = 0.7993419354838709\n"
     ]
    },
    {
     "name": "stderr",
     "output_type": "stream",
     "text": [
      "np.mean(scores) = 0.7993419354838709\n"
     ]
    }
   ],
   "source": [
    "if C.USE_LIGHTGBM:\n",
    "    with mlflow.start_run(\n",
    "        experiment_id=experiment.experiment_id,\n",
    "        run_name=\"LightGBM Base Model\",\n",
    "    ) as run:\n",
    "        clf = LGBMClassifier()\n",
    "        cv = StratifiedKFold(\n",
    "            n_splits=C.KFOLD_SPLIT,\n",
    "            shuffle=True,\n",
    "            random_state=C.RANDOM_SEED,\n",
    "        )\n",
    "        scores = cross_val_score(\n",
    "            clf, X_train, y_train, cv=cv, scoring=C.EVAL_METRIC\n",
    "        )\n",
    "        log.info(f\"{np.mean(scores) = }\")\n",
    "        mlflow.log_metric(f\"{C.EVAL_METRIC}\", np.mean(scores))"
   ]
  },
  {
   "cell_type": "code",
   "execution_count": null,
   "metadata": {},
   "outputs": [],
   "source": [
    "clf = LGBMClassifier()\n",
    "clf.fit(X_train, y_train)\n",
    "print(classification_report(y_val, clf.predict(X_val)))"
   ]
  },
  {
   "cell_type": "markdown",
   "metadata": {},
   "source": [
    "<h1 style=\"font-size:40px;\"> <center> XGBoost </center> </h1>"
   ]
  },
  {
   "cell_type": "code",
   "execution_count": 13,
   "metadata": {},
   "outputs": [
    {
     "name": "stdout",
     "output_type": "stream",
     "text": [
      "0.8025677419354839\n"
     ]
    }
   ],
   "source": [
    "if C.USE_XGBOOST:\n",
    "    with mlflow.start_run(\n",
    "        experiment_id=experiment.experiment_id,\n",
    "        run_name=\"XGBoost Base Model\",\n",
    "    ) as run:\n",
    "        clf = XGBClassifier()\n",
    "        cv = StratifiedKFold(\n",
    "            n_splits=C.KFOLD_SPLIT,\n",
    "            shuffle=True,\n",
    "            random_state=C.RANDOM_SEED,\n",
    "        )\n",
    "        scores = cross_val_score(\n",
    "            clf, X_train, y_train, cv=cv, scoring=C.EVAL_METRIC\n",
    "        )\n",
    "        log.info(f\"{np.mean(scores) = }\")\n",
    "        mlflow.log_metric(f\"{C.EVAL_METRIC}\", np.mean(scores))"
   ]
  },
  {
   "cell_type": "code",
   "execution_count": null,
   "metadata": {},
   "outputs": [],
   "source": [
    "clf = XGBClassifier()\n",
    "clf.fit(X_train, y_train)\n",
    "print(classification_report(y_val, clf.predict(X_val)))"
   ]
  },
  {
   "cell_type": "markdown",
   "metadata": {},
   "source": [
    "<h1 style=\"font-size:40px;\"> <center> CatBoost </center> </h1>"
   ]
  },
  {
   "cell_type": "code",
   "execution_count": 15,
   "metadata": {},
   "outputs": [
    {
     "name": "stdout",
     "output_type": "stream",
     "text": [
      "0.8169806451612903\n"
     ]
    }
   ],
   "source": [
    "if C.USE_CATBOOST:\n",
    "    with mlflow.start_run(\n",
    "        experiment_id=experiment.experiment_id,\n",
    "        run_name=\"CatBoost Base Model\",\n",
    "    ) as run:\n",
    "        clf = CatBoostClassifier(verbose=0)\n",
    "        cv = StratifiedKFold(\n",
    "            n_splits=C.KFOLD_SPLIT,\n",
    "            shuffle=True,\n",
    "            random_state=C.RANDOM_SEED,\n",
    "        )\n",
    "        scores = cross_val_score(\n",
    "            clf, X_train, y_train, cv=cv, scoring=C.EVAL_METRIC\n",
    "        )\n",
    "        log.info(f\"{np.mean(scores) = }\")\n",
    "        mlflow.log_metric(f\"{C.EVAL_METRIC}\", np.mean(scores))"
   ]
  },
  {
   "cell_type": "code",
   "execution_count": null,
   "metadata": {},
   "outputs": [],
   "source": [
    "clf = CatBoostClassifier(verbose=0)\n",
    "clf.fit(X_train, y_train)\n",
    "print(classification_report(y_val, clf.predict(X_val)))"
   ]
  },
  {
   "cell_type": "markdown",
   "metadata": {},
   "source": [
    "<h1 style=\"font-size:40px;\"> <center> TPOT </center> </h1>"
   ]
  },
  {
   "cell_type": "code",
   "execution_count": 23,
   "metadata": {},
   "outputs": [
    {
     "name": "stdout",
     "output_type": "stream",
     "text": [
      "Imputing missing values in feature set\n"
     ]
    },
    {
     "data": {
      "application/vnd.jupyter.widget-view+json": {
       "model_id": "",
       "version_major": 2,
       "version_minor": 0
      },
      "text/plain": [
       "Optimization Progress:   0%|          | 0/300 [00:00<?, ?pipeline/s]"
      ]
     },
     "metadata": {},
     "output_type": "display_data"
    },
    {
     "name": "stdout",
     "output_type": "stream",
     "text": [
      "\n",
      "Generation 1 - Current best internal CV score: 0.8281935483870967\n",
      "\n",
      "Generation 2 - Current best internal CV score: 0.8281935483870967\n",
      "\n",
      "Generation 3 - Current best internal CV score: 0.8281935483870967\n",
      "\n",
      "Generation 4 - Current best internal CV score: 0.8281935483870967\n",
      "\n",
      "Generation 5 - Current best internal CV score: 0.8281935483870967\n",
      "\n",
      "Best pipeline: GradientBoostingClassifier(input_matrix, learning_rate=0.1, max_depth=8, max_features=0.35000000000000003, min_samples_leaf=10, min_samples_split=8, n_estimators=100, subsample=0.25)\n",
      "Imputing missing values in feature set\n",
      "0.8097014925373134\n"
     ]
    }
   ],
   "source": [
    "tpot = TPOTClassifier(\n",
    "    generations=5,\n",
    "    population_size=50,\n",
    "    verbosity=2,\n",
    "    random_state=C.RANDOM_SEED,\n",
    ")\n",
    "tpot.fit(X_train, y_train)\n",
    "print(tpot.score(X_val, y_val))\n",
    "tpot.export(\"tpot_pipeline.py\")"
   ]
  },
  {
   "cell_type": "markdown",
   "metadata": {},
   "source": [
    "<h1 style=\"font-size:50px;\"> <center> Hyperparameter Tuning </center> </h1>"
   ]
  },
  {
   "cell_type": "code",
   "execution_count": null,
   "metadata": {},
   "outputs": [],
   "source": [
    "best_hps = {}"
   ]
  },
  {
   "cell_type": "code",
   "execution_count": null,
   "metadata": {},
   "outputs": [],
   "source": [
    "train_x, val_x, train_y, val_y = train_test_split(\n",
    "    X_train, y_train, test_size=0.30, random_state=C.RANDOM_SEED\n",
    ")"
   ]
  },
  {
   "cell_type": "markdown",
   "metadata": {},
   "source": [
    "<h1 style=\"font-size:40px;\"> <center> Hist GBM </center> </h1>"
   ]
  },
  {
   "cell_type": "code",
   "execution_count": null,
   "metadata": {},
   "outputs": [],
   "source": [
    "%%notify\n",
    "if C.USE_HISTGBM:\n",
    "    with mlflow.start_run(\n",
    "        experiment_id=experiment.experiment_id, run_name=\"HistGBM HO\"\n",
    "    ) as run:\n",
    "\n",
    "        def objective(trial):\n",
    "            params = {\n",
    "                'learning_rate': trial.suggest_loguniform('learning_rate', 0.01, 1.0),   \n",
    "                'max_iter': trial.suggest_int('max_iter', 10, 10_000),\n",
    "                'max_depth': trial.suggest_int('max_depth', 2, 12),           \n",
    "                'min_samples_leaf': trial.suggest_int('min_data_in_leaf', 2, 300),\n",
    "                'l2_regularization': trial.suggest_float('reg_lambda', 0, 100.0),\n",
    "                'max_bins': trial.suggest_int('max_bin', 32, 512),\n",
    "                }\n",
    "\n",
    "            clf = HistGradientBoostingClassifier(\n",
    "                random_state=C.RANDOM_SEED,\n",
    "                **params\n",
    "            )\n",
    "            \n",
    "            fit_params={\n",
    "                'verbose': False,\n",
    "                'eval_set': [[val_x, val_y]],\n",
    "                       }\n",
    "            cv = StratifiedKFold(\n",
    "                n_splits=C.KFOLD_SPLIT, shuffle=True, random_state=C.RANDOM_SEED\n",
    "            )\n",
    "            scores = cross_val_score(clf, X_train, y_train, cv=cv, scoring=C.EVAL_METRIC,\n",
    "                                    fit_params=fit_params)\n",
    "            clear_output(wait=True)\n",
    "            return np.mean(scores)\n",
    "\n",
    "        \n",
    "        sampler = optuna.samplers.TPESampler(seed=C.RANDOM_SEED)\n",
    "        pruner=optuna.pruners.SuccessiveHalvingPruner()\n",
    "        study = optuna.create_study(\n",
    "            direction=\"maximize\",\n",
    "            study_name=\"HistGBM Classification\",\n",
    "            sampler=sampler,\n",
    "            pruner=pruner,\n",
    "        )\n",
    "        study.optimize(objective, n_trials=C.HO_TRIAL, gc_after_trial=True)\n",
    "        \n",
    "        best_trial = study.best_trial\n",
    "        log.info(f\"Best {C.EVAL_METRIC}: {best_trial.value}\")\n",
    "        log.info(f\"Best hyperparameters: {best_trial.params}\")\n",
    "        best_hps[\"histgbm\"] = best_trial.params\n",
    "        for key in best_trial.params.keys():\n",
    "            mlflow.log_param(f\"{key}\", best_trial.params[key])\n",
    "        mlflow.log_metric(f\"{C.EVAL_METRIC}\", best_trial.value)"
   ]
  },
  {
   "cell_type": "markdown",
   "metadata": {},
   "source": [
    "<h1 style=\"font-size:40px;\"> <center> Light GBM </center> </h1>"
   ]
  },
  {
   "cell_type": "code",
   "execution_count": 13,
   "metadata": {},
   "outputs": [
    {
     "name": "stderr",
     "output_type": "stream",
     "text": [
      "\u001b[32m[I 2023-03-13 15:15:11,049]\u001b[0m Trial 0 finished with value: 0.6340645161290323 and parameters: {'num_leaves': 4371, 'reg_alpha': 6.351221010640703, 'reg_lambda': 0.8471801418819978, 'colsample_bytree': 0.7, 'subsample': 0.4, 'learning_rate': 0.014, 'max_depth': 100, 'min_child_samples': 60, 'min_data_per_groups': 52, 'scale_pos_weight': 7}. Best is trial 0 with value: 0.6340645161290323.\u001b[0m\n"
     ]
    },
    {
     "name": "stdout",
     "output_type": "stream",
     "text": [
      "2023-03-13 15:15:11,065[:19] - MyApp - INFO - Best C.METRIC = 'accuracy' 0.6340645161290323\n"
     ]
    },
    {
     "name": "stderr",
     "output_type": "stream",
     "text": [
      "Best C.METRIC = 'accuracy' 0.6340645161290323\n"
     ]
    },
    {
     "name": "stdout",
     "output_type": "stream",
     "text": [
      "2023-03-13 15:15:11,065[:19] - MyApp - INFO - Best hyperparameters: {'num_leaves': 4371, 'reg_alpha': 6.351221010640703, 'reg_lambda': 0.8471801418819978, 'colsample_bytree': 0.7, 'subsample': 0.4, 'learning_rate': 0.014, 'max_depth': 100, 'min_child_samples': 60, 'min_data_per_groups': 52, 'scale_pos_weight': 7}\n"
     ]
    },
    {
     "name": "stderr",
     "output_type": "stream",
     "text": [
      "Best hyperparameters: {'num_leaves': 4371, 'reg_alpha': 6.351221010640703, 'reg_lambda': 0.8471801418819978, 'colsample_bytree': 0.7, 'subsample': 0.4, 'learning_rate': 0.014, 'max_depth': 100, 'min_child_samples': 60, 'min_data_per_groups': 52, 'scale_pos_weight': 7}\n"
     ]
    },
    {
     "data": {
      "application/javascript": [
       "$(document).ready(\n",
       "    function() {\n",
       "        function appendUniqueDiv(){\n",
       "            // append a div with our uuid so we can check that it's already\n",
       "            // been sent and avoid duplicates on page reload\n",
       "            var notifiedDiv = document.createElement(\"div\")\n",
       "            notifiedDiv.id = \"eff6156e-fb7d-4e83-a6a4-34c9562edee6\"\n",
       "            element.append(notifiedDiv)\n",
       "        }\n",
       "\n",
       "        // only send notifications if the pageload is complete; this will\n",
       "        // help stop extra notifications when a saved notebook is loaded,\n",
       "        // which during testing gives us state \"interactive\", not \"complete\"\n",
       "        if (document.readyState === 'complete') {\n",
       "            // check for the div that signifies that the notification\n",
       "            // was already sent\n",
       "            if (document.getElementById(\"eff6156e-fb7d-4e83-a6a4-34c9562edee6\") === null) {\n",
       "                var notificationPayload = {\"requireInteraction\": false, \"icon\": \"/static/base/images/favicon.ico\", \"body\": \"Cell execution has finished!\"};\n",
       "                if (Notification.permission !== 'denied') {\n",
       "                    if (Notification.permission !== 'granted') { \n",
       "                        Notification.requestPermission(function (permission) {\n",
       "                            if(!('permission' in Notification)) {\n",
       "                                Notification.permission = permission\n",
       "                            }\n",
       "                        })\n",
       "                    }\n",
       "                    if (Notification.permission === 'granted') {\n",
       "                    var notification = new Notification(\"Jupyter Notebook\", notificationPayload)\n",
       "                    appendUniqueDiv()\n",
       "                    notification.onclick = function () {\n",
       "                        window.focus();\n",
       "                        this.close();\n",
       "                        };\n",
       "                    } \n",
       "                }     \n",
       "            }\n",
       "        }\n",
       "    }\n",
       ")\n"
      ],
      "text/plain": [
       "<IPython.core.display.Javascript object>"
      ]
     },
     "metadata": {},
     "output_type": "display_data"
    }
   ],
   "source": [
    "%%notify\n",
    "if C.USE_LIGHTGBM:\n",
    "    with mlflow.start_run(\n",
    "        experiment_id=experiment.experiment_id, run_name=\"LightGBM HO\"\n",
    "    ) as run:\n",
    "\n",
    "        def objective(trial):\n",
    "            params = {\n",
    "                    'n_estimators': trial.suggest_int('n_estimators', 10, 10_000),\n",
    "                    'learning_rate': trial.suggest_loguniform('learning_rate', 0.01, 1.0),    \n",
    "                    'max_depth': trial.suggest_int('max_depth', 1, 16),           \n",
    "                    'min_data_in_leaf': trial.suggest_int('min_data_in_leaf', 0, 300),\n",
    "                    'min_gain_to_split': trial.suggest_float('min_gain_to_split', 0, 15),\n",
    "                    'max_bin': trial.suggest_int('max_bin', 32, 512),\n",
    "                    'subsample': trial.suggest_float('subsample', 0.01, 1.0),\n",
    "                    'subsample_freq': trial.suggest_int('subsample_freq', 0, 10),\n",
    "                    'feature_fraction': trial.suggest_float('feature_fraction', 0.1, 1.0),\n",
    "                    'subsample_for_bin': trial.suggest_int('subsample_for_bin', 30, 1000),\n",
    "                    'reg_lambda': trial.suggest_loguniform('reg_lambda', 0, 100.0),\n",
    "                    'reg_alpha': trial.suggest_loguniform('reg_alpha', 0, 100.0),\n",
    "                    'scale_pos_weight': trial.suggest_loguniform('scale_pos_weight', 1e-6, 500.0),\n",
    "                }\n",
    "            params['num_leaves'] = trial.suggest_int('num_leaves', 2, 2**params['max_depth']),\n",
    "\n",
    "            clf = LGBMClassifier(\n",
    "                random_state=C.RANDOM_SEED,\n",
    "                **params\n",
    "            )\n",
    "            \n",
    "            pruning_callback = LightGBMPruningCallback(trial, 'validation_0-' + C.EVAL_METRIC)\n",
    "            fit_params={\n",
    "                'callbacks':[pruning_callback],\n",
    "                'verbose': False,\n",
    "                'early_stopping_rounds': params[\"n_estimators\"]//10, \n",
    "                'eval_set': [[val_x, val_y]],\n",
    "                       }\n",
    "            cv = StratifiedKFold(\n",
    "                n_splits=C.KFOLD_SPLIT, shuffle=True, random_state=C.RANDOM_SEED\n",
    "            )\n",
    "            scores = cross_val_score(clf, X_train, y_train, cv=cv, scoring=C.EVAL_METRIC,\n",
    "                                    fit_params=fit_params)\n",
    "            clear_output(wait=True)\n",
    "            return np.mean(scores)\n",
    "\n",
    "        \n",
    "        sampler = optuna.samplers.TPESampler(seed=C.RANDOM_SEED)\n",
    "        pruner=optuna.pruners.SuccessiveHalvingPruner()\n",
    "        study = optuna.create_study(\n",
    "            direction=\"maximize\",\n",
    "            study_name=\"LightGBM Classification\",\n",
    "            sampler=sampler,\n",
    "            pruner=pruner,\n",
    "        )\n",
    "        study.optimize(objective, n_trials=C.HO_TRIAL, gc_after_trial=True)\n",
    "        best_trial = study.best_trial\n",
    "        log.info(f\"Best {C.EVAL_METRIC}: {best_trial.value}\")\n",
    "        log.info(f\"Best hyperparameters: {best_trial.params}\")\n",
    "        best_hps[\"lightgbm\"] = best_trial.params\n",
    "        for key in best_trial.params.keys():\n",
    "            mlflow.log_param(f\"{key}\", best_trial.params[key])\n",
    "        mlflow.log_metric(f\"{C.EVAL_METRIC}\", best_trial.value)"
   ]
  },
  {
   "cell_type": "markdown",
   "metadata": {},
   "source": [
    "<h1 style=\"font-size:40px;\"> <center> XGBoost </center> </h1>"
   ]
  },
  {
   "cell_type": "code",
   "execution_count": 11,
   "metadata": {},
   "outputs": [
    {
     "name": "stderr",
     "output_type": "stream",
     "text": [
      "\u001b[32m[I 2023-03-01 13:00:45,374]\u001b[0m A new study created in memory with name: XGBoost Classification\u001b[0m\n",
      "suggest_loguniform has been deprecated in v3.0.0. This feature will be removed in v6.0.0. See https://github.com/optuna/optuna/releases/tag/v3.0.0. Use :func:`~optuna.trial.Trial.suggest_float` instead.\n",
      "suggest_loguniform has been deprecated in v3.0.0. This feature will be removed in v6.0.0. See https://github.com/optuna/optuna/releases/tag/v3.0.0. Use :func:`~optuna.trial.Trial.suggest_float` instead.\n",
      "suggest_loguniform has been deprecated in v3.0.0. This feature will be removed in v6.0.0. See https://github.com/optuna/optuna/releases/tag/v3.0.0. Use :func:`~optuna.trial.Trial.suggest_float` instead.\n",
      "suggest_loguniform has been deprecated in v3.0.0. This feature will be removed in v6.0.0. See https://github.com/optuna/optuna/releases/tag/v3.0.0. Use :func:`~optuna.trial.Trial.suggest_float` instead.\n",
      "suggest_loguniform has been deprecated in v3.0.0. This feature will be removed in v6.0.0. See https://github.com/optuna/optuna/releases/tag/v3.0.0. Use :func:`~optuna.trial.Trial.suggest_float` instead.\n",
      "suggest_loguniform has been deprecated in v3.0.0. This feature will be removed in v6.0.0. See https://github.com/optuna/optuna/releases/tag/v3.0.0. Use :func:`~optuna.trial.Trial.suggest_float` instead.\n",
      "`use_label_encoder` is deprecated in 1.7.0.\n",
      "`use_label_encoder` is deprecated in 1.7.0.\n",
      "`use_label_encoder` is deprecated in 1.7.0.\n",
      "`use_label_encoder` is deprecated in 1.7.0.\n",
      "`use_label_encoder` is deprecated in 1.7.0.\n",
      "`use_label_encoder` is deprecated in 1.7.0.\n",
      "\u001b[32m[I 2023-03-01 13:00:47,031]\u001b[0m Trial 0 finished with value: 0.37078709677419364 and parameters: {'max_depth': 4, 'learning_rate': 0.7969454818643931, 'n_estimators': 380, 'min_child_weight': 6, 'gamma': 1.77071686435378e-07, 'subsample': 0.020511104188433976, 'colsample_bytree': 0.01306673923805328, 'reg_alpha': 0.08499808989182997, 'reg_lambda': 0.0006440507553993703, 'scale_pos_weight': 8}. Best is trial 0 with value: 0.37078709677419364.\u001b[0m\n",
      "suggest_loguniform has been deprecated in v3.0.0. This feature will be removed in v6.0.0. See https://github.com/optuna/optuna/releases/tag/v3.0.0. Use :func:`~optuna.trial.Trial.suggest_float` instead.\n",
      "suggest_loguniform has been deprecated in v3.0.0. This feature will be removed in v6.0.0. See https://github.com/optuna/optuna/releases/tag/v3.0.0. Use :func:`~optuna.trial.Trial.suggest_float` instead.\n",
      "suggest_loguniform has been deprecated in v3.0.0. This feature will be removed in v6.0.0. See https://github.com/optuna/optuna/releases/tag/v3.0.0. Use :func:`~optuna.trial.Trial.suggest_float` instead.\n",
      "suggest_loguniform has been deprecated in v3.0.0. This feature will be removed in v6.0.0. See https://github.com/optuna/optuna/releases/tag/v3.0.0. Use :func:`~optuna.trial.Trial.suggest_float` instead.\n",
      "suggest_loguniform has been deprecated in v3.0.0. This feature will be removed in v6.0.0. See https://github.com/optuna/optuna/releases/tag/v3.0.0. Use :func:`~optuna.trial.Trial.suggest_float` instead.\n",
      "suggest_loguniform has been deprecated in v3.0.0. This feature will be removed in v6.0.0. See https://github.com/optuna/optuna/releases/tag/v3.0.0. Use :func:`~optuna.trial.Trial.suggest_float` instead.\n",
      "`use_label_encoder` is deprecated in 1.7.0.\n",
      "`use_label_encoder` is deprecated in 1.7.0.\n",
      "`use_label_encoder` is deprecated in 1.7.0.\n",
      "`use_label_encoder` is deprecated in 1.7.0.\n",
      "`use_label_encoder` is deprecated in 1.7.0.\n",
      "`use_label_encoder` is deprecated in 1.7.0.\n",
      "\u001b[32m[I 2023-03-01 13:00:48,640]\u001b[0m Trial 1 finished with value: 0.5523354838709678 and parameters: {'max_depth': 1, 'learning_rate': 0.8706020878304853, 'n_estimators': 425, 'min_child_weight': 3, 'gamma': 2.8483918709107956e-07, 'subsample': 0.023270677083837805, 'colsample_bytree': 0.04059611610484305, 'reg_alpha': 0.00015777981883364995, 'reg_lambda': 2.85469785779718e-05, 'scale_pos_weight': 5}. Best is trial 1 with value: 0.5523354838709678.\u001b[0m\n"
     ]
    },
    {
     "name": "stdout",
     "output_type": "stream",
     "text": [
      "Best accuracy: 0.5523354838709678\n",
      "Best hyperparameters: {'max_depth': 1, 'learning_rate': 0.8706020878304853, 'n_estimators': 425, 'min_child_weight': 3, 'gamma': 2.8483918709107956e-07, 'subsample': 0.023270677083837805, 'colsample_bytree': 0.04059611610484305, 'reg_alpha': 0.00015777981883364995, 'reg_lambda': 2.85469785779718e-05, 'scale_pos_weight': 5}\n"
     ]
    }
   ],
   "source": [
    "%%notify\n",
    "if C.USE_XGBOOST:\n",
    "    with mlflow.start_run(\n",
    "        experiment_id=experiment.experiment_id, run_name=\"XGBoost HO\"\n",
    "    ) as run:\n",
    "\n",
    "        def objective(trial):\n",
    "            params = {\n",
    "                    'n_estimators': trial.suggest_int('n_estimators', 10, 5000),\n",
    "                    'learning_rate': trial.suggest_loguniform('learning_rate', 0.01, 1.0),\n",
    "                    'min_child_weight': trial.suggest_int('min_child_weight', 1, 10),\n",
    "                    'max_depth': trial.suggest_int('max_depth', 1, 50),\n",
    "                    'max_delta_step': trial.suggest_int('max_delta_step', 0, 20),\n",
    "                    'subsample': trial.suggest_float('subsample', 0.1, 1.0),\n",
    "                    'colsample_bytree': trial.suggest_float('colsample_bytree', 0.1, 1.0),\n",
    "                    'colsample_bylevel': trial.suggest_float('colsample_bylevel', 0.1, 1.0),\n",
    "                    'reg_lambda': trial.suggest_loguniform('reg_lambda', 1e-9, 100.0),\n",
    "                    'reg_alpha': trial.suggest_loguniform('reg_alpha', 1e-9, 100.0),\n",
    "                    'gamma': trial.suggest_loguniform('gamma', 1e-9, 0.5),\n",
    "                    'scale_pos_weight': trial.suggest_loguniform('scale_pos_weight', 1e-6, 500.0),\n",
    "                }\n",
    "\n",
    "            clf = XGBClassifier(\n",
    "                random_state=C.RANDOM_SEED,\n",
    "                tree_method=\"gpu_hist\",\n",
    "                predictor=\"gpu_predictor\",\n",
    "                eval_metric=C.EVAL_METRIC\n",
    "                **params)\n",
    "            \n",
    "            pruning_callback = XGBoostPruningCallback(trial, 'validation_0-' + C.EVAL_METRIC)\n",
    "            fit_params={\n",
    "                'callbacks':[pruning_callback],\n",
    "                'verbose': False,\n",
    "                'early_stopping_rounds': params[\"n_estimators\"]//10, \n",
    "                'eval_set': [[val_x, val_y]],\n",
    "                       }\n",
    "            \n",
    "            cv = StratifiedKFold(\n",
    "                n_splits=C.KFOLD_SPLIT, shuffle=True, random_state=C.RANDOM_SEED\n",
    "            )   \n",
    "            scores = cross_val_score(clf, train_x, train_y, cv=cv, scoring=C.EVAL_METRIC, \n",
    "                                     fit_params=fit_params)\n",
    "            clear_output(wait=True)\n",
    "            return np.mean(scores)\n",
    "\n",
    "        sampler = optuna.samplers.TPESampler(seed=C.RANDOM_SEED)\n",
    "        pruner=optuna.pruners.SuccessiveHalvingPruner()\n",
    "        study = optuna.create_study(\n",
    "            direction=\"maximize\",\n",
    "            study_name=\"XGBoost Classification\",\n",
    "            sampler=sampler,\n",
    "            pruner=pruner,\n",
    "        )\n",
    "        study.optimize(objective, n_trials=C.HO_TRIAL, gc_after_trial=True)\n",
    "        best_trial = study.best_trial\n",
    "        log.info(f\"Best {C.EVAL_METRIC = }: {best_trial.value}\")\n",
    "        log.info(f\"Best hyperparameters: {best_trial.params}\")\n",
    "        best_hps[\"xgboost\"] = best_trial.params\n",
    "        for key in best_trial.params.keys():\n",
    "            mlflow.log_param(f\"{key}\", best_trial.params[key])\n",
    "        mlflow.log_metric(f\"{C.EVAL_METRIC}\", best_trial.value)"
   ]
  },
  {
   "cell_type": "markdown",
   "metadata": {},
   "source": [
    "<h1 style=\"font-size:40px;\"> <center> CatBoost </center> </h1>"
   ]
  },
  {
   "cell_type": "code",
   "execution_count": 12,
   "metadata": {},
   "outputs": [
    {
     "name": "stderr",
     "output_type": "stream",
     "text": [
      "\u001b[32m[I 2023-03-01 13:01:18,750]\u001b[0m A new study created in memory with name: Catboost Classification\u001b[0m\n",
      "suggest_loguniform has been deprecated in v3.0.0. This feature will be removed in v6.0.0. See https://github.com/optuna/optuna/releases/tag/v3.0.0. Use :func:`~optuna.trial.Trial.suggest_float` instead.\n",
      "suggest_loguniform has been deprecated in v3.0.0. This feature will be removed in v6.0.0. See https://github.com/optuna/optuna/releases/tag/v3.0.0. Use :func:`~optuna.trial.Trial.suggest_float` instead.\n",
      "suggest_loguniform has been deprecated in v3.0.0. This feature will be removed in v6.0.0. See https://github.com/optuna/optuna/releases/tag/v3.0.0. Use :func:`~optuna.trial.Trial.suggest_float` instead.\n",
      "\u001b[32m[I 2023-03-01 13:01:31,928]\u001b[0m Trial 0 finished with value: 0.7383483870967742 and parameters: {'iterations': 2185, 'learning_rate': 0.7969454818643931, 'l2_leaf_reg': 29.10635913133069, 'bagging_temperature': 2.385234757844707, 'random_strength': 1.1560186404424364, 'depth': 2, 'min_data_in_leaf': 18, 'scale_pos_weight': 9}. Best is trial 0 with value: 0.7383483870967742.\u001b[0m\n",
      "suggest_loguniform has been deprecated in v3.0.0. This feature will be removed in v6.0.0. See https://github.com/optuna/optuna/releases/tag/v3.0.0. Use :func:`~optuna.trial.Trial.suggest_float` instead.\n",
      "suggest_loguniform has been deprecated in v3.0.0. This feature will be removed in v6.0.0. See https://github.com/optuna/optuna/releases/tag/v3.0.0. Use :func:`~optuna.trial.Trial.suggest_float` instead.\n",
      "suggest_loguniform has been deprecated in v3.0.0. This feature will be removed in v6.0.0. See https://github.com/optuna/optuna/releases/tag/v3.0.0. Use :func:`~optuna.trial.Trial.suggest_float` instead.\n",
      "\u001b[32m[I 2023-03-01 13:01:52,776]\u001b[0m Trial 1 finished with value: 0.7752516129032259 and parameters: {'iterations': 3205, 'learning_rate': 0.2607024758370766, 'l2_leaf_reg': 1.0994335574766196, 'bagging_temperature': 17.052641538983092, 'random_strength': 1.8324426408004217, 'depth': 3, 'min_data_in_leaf': 55, 'scale_pos_weight': 4}. Best is trial 1 with value: 0.7752516129032259.\u001b[0m\n"
     ]
    },
    {
     "name": "stdout",
     "output_type": "stream",
     "text": [
      "Best accuracy: 0.7752516129032259\n",
      "Best hyperparameters: {'iterations': 3205, 'learning_rate': 0.2607024758370766, 'l2_leaf_reg': 1.0994335574766196, 'bagging_temperature': 17.052641538983092, 'random_strength': 1.8324426408004217, 'depth': 3, 'min_data_in_leaf': 55, 'scale_pos_weight': 4}\n"
     ]
    }
   ],
   "source": [
    "%%notify\n",
    "if C.USE_CATBOOST:\n",
    "    with mlflow.start_run(\n",
    "        experiment_id=experiment.experiment_id, run_name=\"CatBoost HO\"\n",
    "    ) as run:\n",
    "\n",
    "        def objective(trial):\n",
    "            params = {\n",
    "                'iterations': trial.suggest_int('iterations', 10, 1000),\n",
    "                'depth': trial.suggest_int('depth', 1, 8),\n",
    "                'learning_rate': trial.suggest_loguniform('learning_rate', 0.01, 1.0),\n",
    "                'random_strength': trial.suggest_loguniform('random_strength', 1e-9, 10.0),\n",
    "                'bagging_temperature': trial.suggest_float('bagging_temperature', 0.0, 1.0),\n",
    "                'border_count': trial.suggest_int('border_count', 1, 255),\n",
    "                \n",
    "                'l2_leaf_reg': trial.suggest_int('l2_leaf_reg', 2, 30),\n",
    "                'scale_pos_weight': trial.suggest_loguniform('scale_pos_weight', 0.01, 10.0),\n",
    "\n",
    "            }\n",
    "            \n",
    "            clf = CatBoostClassifier(\n",
    "                random_state=C.RANDOM_SEED,\n",
    "                eval_metric='AUC',\n",
    "                verbose=0,\n",
    "                **params, )\n",
    "            \n",
    "            pruning_callback = CatBoostPruningCallback(trial, 'validation_0-' + C.EVAL_METRIC)\n",
    "            fit_params={\n",
    "                'callbacks':[pruning_callback],\n",
    "                'verbose': False,\n",
    "                'early_stopping_rounds': params[\"n_estimators\"]//10, \n",
    "                'eval_set': [[val_x, val_y]],\n",
    "                       }        \n",
    "            \n",
    "            cv = StratifiedKFold(\n",
    "                n_splits=C.KFOLD_SPLIT, shuffle=True, random_state=C.RANDOM_SEED\n",
    "            )\n",
    "            scores = cross_val_score(clf, X_train, y_train, cv=cv, scoring=C.EVAL_METRIC\n",
    "                                      fit_params=fit_params)\n",
    "            \n",
    "            clear_output(wait=True)\n",
    "            return np.mean(scores)\n",
    "        \n",
    "        \n",
    "        sampler = optuna.samplers.TPESampler(seed=C.RANDOM_SEED)\n",
    "        pruner=optuna.pruners.SuccessiveHalvingPruner()\n",
    "        study = optuna.create_study(\n",
    "            direction=\"maximize\",\n",
    "            study_name=\"Catboost Classification\",\n",
    "            sampler=sampler,\n",
    "            pruner=pruner,\n",
    "        )\n",
    "        study.optimize(objective, n_trials=C.HO_TRIAL)\n",
    "        \n",
    "        best_trial = study.best_trial\n",
    "        log.info(f\"Best {C.EVAL_METRIC}: {best_trial.value}\")\n",
    "        log.info(f\"Best hyperparameters: {best_trial.params}\")\n",
    "        best_hps[\"catboost\"] = best_trial.params\n",
    "        for key in best_trial.params.keys():\n",
    "            mlflow.log_param(f\"{key}\", best_trial.params[key])\n",
    "        mlflow.log_metric(f\"{C.EVAL_METRIC}\", best_trial.value)"
   ]
  },
  {
   "cell_type": "markdown",
   "metadata": {},
   "source": [
    "<h1 style=\"font-size:50px;\"> <center> Feature Importance </center> </h1>"
   ]
  },
  {
   "cell_type": "code",
   "execution_count": 25,
   "metadata": {},
   "outputs": [],
   "source": [
    "le = LabelEncoder()\n",
    "for cat_col in cat_cols:\n",
    "    X[cat_col] = le.fit_transform(X[cat_col])"
   ]
  },
  {
   "cell_type": "markdown",
   "metadata": {},
   "source": [
    "<h1 style=\"font-size:40px;\"> <center> XGBoost </center> </h1>"
   ]
  },
  {
   "cell_type": "code",
   "execution_count": 26,
   "metadata": {},
   "outputs": [
    {
     "data": {
      "image/png": "[encoded data removed]",
      "text/plain": [
       "<Figure size 1000x300 with 1 Axes>"
      ]
     },
     "metadata": {},
     "output_type": "display_data"
    }
   ],
   "source": [
    "clf = XGBClassifier()\n",
    "clf.fit(X, y)\n",
    "plt.rcParams[\"figure.figsize\"] = (10, 3)\n",
    "plot_importance(clf)\n",
    "plt.show()"
   ]
  },
  {
   "cell_type": "code",
   "execution_count": 27,
   "metadata": {},
   "outputs": [
    {
     "name": "stderr",
     "output_type": "stream",
     "text": [
      "ntree_limit is deprecated, use `iteration_range` or model slicing instead.\n"
     ]
    },
    {
     "data": {
      "image/png": "[encoded data removed]",
      "text/plain": [
       "<Figure size 800x430 with 1 Axes>"
      ]
     },
     "metadata": {},
     "output_type": "display_data"
    }
   ],
   "source": [
    "shap_values = shap.TreeExplainer(clf).shap_values(X)\n",
    "shap.summary_plot(shap_values, X_train, plot_type=\"bar\")"
   ]
  },
  {
   "cell_type": "code",
   "execution_count": 11,
   "metadata": {},
   "outputs": [
    {
     "name": "stderr",
     "output_type": "stream",
     "text": [
      "ntree_limit is deprecated, use `iteration_range` or model slicing instead.\n",
      "No data for colormapping provided via 'c'. Parameters 'vmin', 'vmax' will be ignored\n"
     ]
    },
    {
     "data": {
      "image/png": "[encoded data removed]",
      "text/plain": [
       "<Figure size 800x430 with 2 Axes>"
      ]
     },
     "metadata": {},
     "output_type": "display_data"
    }
   ],
   "source": [
    "explainer = shap.TreeExplainer(clf)\n",
    "shap_values = explainer.shap_values(X)\n",
    "shap.summary_plot(shap_values, X)"
   ]
  },
  {
   "cell_type": "code",
   "execution_count": 29,
   "metadata": {},
   "outputs": [
    {
     "data": {
      "image/png": "[encoded data removed]",
      "text/plain": [
       "<Figure size 750x500 with 2 Axes>"
      ]
     },
     "metadata": {},
     "output_type": "display_data"
    }
   ],
   "source": [
    "shap.dependence_plot(\"Sex\", shap_values, X)"
   ]
  },
  {
   "cell_type": "markdown",
   "metadata": {},
   "source": [
    "<h1 style=\"font-size:60px;\"> <center> DEEP LEARNING </center> </h1>"
   ]
  },
  {
   "cell_type": "markdown",
   "metadata": {},
   "source": [
    "<h1 style=\"font-size:50px;\"> <center> Autokeras </center> </h1>"
   ]
  },
  {
   "cell_type": "code",
   "execution_count": 48,
   "metadata": {},
   "outputs": [
    {
     "data": {
      "text/plain": [
       "0.7947761194029851"
      ]
     },
     "execution_count": 48,
     "metadata": {},
     "output_type": "execute_result"
    }
   ],
   "source": [
    "callback = [\n",
    "    EarlyStopping(monitor=\"val_loss\", patience=25, mode=\"min\"),\n",
    "    ReduceLROnPlateau(\n",
    "        monitor=\"val_loss\",\n",
    "        factor=0.1,\n",
    "        patience=15,\n",
    "        verbose=1,\n",
    "        min_delta=1e-3,\n",
    "        mode=\"min\",\n",
    "    ),\n",
    "]"
   ]
  },
  {
   "cell_type": "code",
   "execution_count": null,
   "metadata": {},
   "outputs": [],
   "source": [
    "search = ak.StructuredDataRegressor(\n",
    "    max_trials=3,\n",
    "    project_name=\"Shell Regressor\",\n",
    "    loss=\"mean_squared_error\",\n",
    "    overwrite=True,\n",
    ")\n",
    "search.fit(\n",
    "    x=X_train_inner_val,\n",
    "    y=y_train_inner_val,\n",
    "    epochs=30,\n",
    "    verbose=1,\n",
    "    callbacks=[callback],\n",
    "    validation_split=0.5,\n",
    ")"
   ]
  },
  {
   "cell_type": "code",
   "execution_count": null,
   "metadata": {},
   "outputs": [],
   "source": [
    "best_nn_model = search.export_model()\n",
    "best_nn_model"
   ]
  },
  {
   "cell_type": "code",
   "execution_count": null,
   "metadata": {},
   "outputs": [],
   "source": [
    "with mlflow.start_run(\n",
    "    experiment_id=experiment.experiment_id,\n",
    "    run_name=\"AutoKeras Best Model Full Data Evaluation\",\n",
    ") as run:\n",
    "    rmsle_scores = []\n",
    "    kf = KFold(n_splits=3, shuffle=True, random_state=42)\n",
    "\n",
    "    for train_index, val_index in tqdm(\n",
    "        kf.split(X_outer_val),\n",
    "        desc=\"AutoKeras Best Model Full Data Evaluation...\",\n",
    "    ):\n",
    "        X_train, X_val = X.iloc[train_index], X.iloc[val_index]\n",
    "        y_train, y_val = y.iloc[train_index], y.iloc[val_index]\n",
    "        best_nn_model.fit(\n",
    "            X_train,\n",
    "            y_train,\n",
    "            epochs=200,\n",
    "            verbose=2,\n",
    "            callbacks=[callback],\n",
    "            validation_split=0.2,\n",
    "        )\n",
    "        y_pred = best_nn_model.predict(X_val)\n",
    "        y_pred = pd.Series(y_pred.flatten())\n",
    "        mse_score = mean_squared_error(y_val, y_pred)\n",
    "        rmsle_scores.append(mse_score)\n",
    "    print(\n",
    "        \"Ensemble Mean RMSLE Score: {}, STD ofRMSLEMSE Score: {}\".format(\n",
    "            np.mean(rmsle_scores), np.std(rmsle_scores)\n",
    "        )\n",
    "    )\n",
    "    mlflow.log_param(\n",
    "        \"layer number\", len(best_nn_model.get_config()[\"layers\"])\n",
    "    )\n",
    "    mlflow.log_param(\n",
    "        \"learning rate\", K.eval(best_nn_model.optimizer.lr)\n",
    "    )\n",
    "    mlflow.log_metric(\"mse\", np.mean(mse_scores))\n",
    "    mlflow.keras.log_model(best_nn_model, \"Autokeras\")"
   ]
  },
  {
   "cell_type": "markdown",
   "metadata": {},
   "source": [
    "<h1 style=\"font-size:60px;\"> <center> FINAL MODELS </center> </h1>"
   ]
  },
  {
   "cell_type": "code",
   "execution_count": null,
   "metadata": {},
   "outputs": [],
   "source": [
    "train_x, val_x, train_y, val_y = train_test_split(\n",
    "    X_train, y_train, test_size=0.30, random_state=C.RANDOM_SEED\n",
    ")"
   ]
  },
  {
   "cell_type": "markdown",
   "metadata": {},
   "source": [
    "<h1 style=\"font-size:40px;\"> <center> Hist GBM </center> </h1>"
   ]
  },
  {
   "cell_type": "code",
   "execution_count": null,
   "metadata": {},
   "outputs": [],
   "source": [
    "clf1 = HistGradientBoostingClassifier(\n",
    "    random_state=C.RANDOM_SEED, **best_hps[\"histgbm\"]\n",
    ")\n",
    "clf1.fit(train_x, train_y)\n",
    "pred_y1 = clf1.predict(val_x)\n",
    "score = accuracy_score(val_y, pred_y1)\n",
    "print(f\"Score for HistGBM is {score:0.3f}\")"
   ]
  },
  {
   "cell_type": "markdown",
   "metadata": {},
   "source": [
    "<h1 style=\"font-size:40px;\"> <center> Light GBM </center> </h1>"
   ]
  },
  {
   "cell_type": "code",
   "execution_count": null,
   "metadata": {},
   "outputs": [],
   "source": [
    "clf2 = LGBMClassifier(\n",
    "    random_state=C.RANDOM_SEED, **best_hps[\"lightgbm\"]\n",
    ")\n",
    "clf2.fit(train_x, train_y)\n",
    "pred_y2 = clf2.predict(val_x)\n",
    "score = accuracy_score(val_y, pred_y2)\n",
    "print(f\"Score for LightGBM is {score:0.3f}\")"
   ]
  },
  {
   "cell_type": "markdown",
   "metadata": {},
   "source": [
    "<h1 style=\"font-size:40px;\"> <center> XGBoost </center> </h1>"
   ]
  },
  {
   "cell_type": "code",
   "execution_count": null,
   "metadata": {},
   "outputs": [],
   "source": [
    "clf3 = XGBClassifier(\n",
    "    random_state=C.RANDOM_SEED,\n",
    "    tree_method=\"gpu_hist\",\n",
    "    predictor=\"gpu_predictor\",\n",
    "    eval_metric=C.EVAL_METRIC ** best_hps[\"xgboost\"],\n",
    ")\n",
    "clf3.fit(train_x, train_y)\n",
    "pred_y3 = clf3.predict(val_x)\n",
    "score = accuracy_score(val_y, pred_y3)\n",
    "print(f\"Score for XGBoost is {score:0.3f}\")"
   ]
  },
  {
   "cell_type": "markdown",
   "metadata": {},
   "source": [
    "<h1 style=\"font-size:40px;\"> <center> CatBoost </center> </h1>"
   ]
  },
  {
   "cell_type": "code",
   "execution_count": null,
   "metadata": {},
   "outputs": [],
   "source": [
    "clf4 = CatBoostClassifier(\n",
    "    random_state=C.RANDOM_SEED,\n",
    "    eval_metric=\"AUC\",\n",
    "    verbose=0,\n",
    "    **best_hps[\"catboost\"],\n",
    ")\n",
    "clf4.fit(train_x, train_y)\n",
    "pred_y4 = clf4.predict(val_x)\n",
    "score = accuracy_score(val_y, pred_y4)\n",
    "print(f\"Score for CatBoost is {score:0.3f}\")"
   ]
  },
  {
   "cell_type": "markdown",
   "metadata": {},
   "source": [
    "<h1 style=\"font-size:60px;\"> <center> ENSEMBLING </center> </h1>"
   ]
  },
  {
   "cell_type": "markdown",
   "metadata": {},
   "source": [
    "<h1 style=\"font-size:50px;\"> <center> Blending </center> </h1>"
   ]
  },
  {
   "cell_type": "code",
   "execution_count": null,
   "metadata": {},
   "outputs": [],
   "source": [
    "preds = np.stack(\n",
    "    [\n",
    "        pred_y1,\n",
    "        pred_y2,\n",
    "        pred_y3,\n",
    "        pred_y4,\n",
    "    ]\n",
    ")\n",
    "max_voting = np.apply_along_axis(mode, 1, preds)[:, 0]"
   ]
  },
  {
   "cell_type": "code",
   "execution_count": null,
   "metadata": {},
   "outputs": [],
   "source": [
    "score = accuracy_score(val_y, max_voting)\n",
    "print(f\"Score for Ensemble is {score:0.3f}\")"
   ]
  },
  {
   "cell_type": "markdown",
   "metadata": {},
   "source": [
    "<h1 style=\"font-size:50px;\"> <center> Stacking </center> </h1>"
   ]
  },
  {
   "cell_type": "code",
   "execution_count": null,
   "metadata": {},
   "outputs": [],
   "source": []
  },
  {
   "cell_type": "code",
   "execution_count": null,
   "metadata": {},
   "outputs": [],
   "source": []
  },
  {
   "cell_type": "markdown",
   "metadata": {},
   "source": [
    "<h1 style=\"font-size:50px;\"> <center> PREDICTION & SUBMISSION </center> </h1>"
   ]
  },
  {
   "cell_type": "code",
   "execution_count": null,
   "metadata": {},
   "outputs": [],
   "source": [
    "y_pred = clf.predict(X_test)\n",
    "submission = pd.DataFrame(y_pred)\n",
    "submission.index = X_test.index\n",
    "submission.to_csv(\"submission.csv\", index=False)\n",
    "submission.to_csv(\n",
    "    f\"Submission-{time.strftime('%d - %H-%M-%S')}.csv\", index=False\n",
    ")"
   ]
  },
  {
   "cell_type": "markdown",
   "metadata": {},
   "source": [
    "<h1 style=\"font-size:50px;\"> <center> SHUTDOWN THE KERNEL </center> </h1>"
   ]
  },
  {
   "cell_type": "code",
   "execution_count": null,
   "metadata": {},
   "outputs": [],
   "source": [
    "os.kill(os.getpid(), signal.SIGTERM)"
   ]
  },
  {
   "cell_type": "code",
   "execution_count": null,
   "metadata": {},
   "outputs": [],
   "source": []
  }
 ],
 "metadata": {
  "kernelspec": {
   "display_name": "class",
   "language": "python",
   "name": "class"
  },
  "language_info": {
   "codemirror_mode": {
    "name": "ipython",
    "version": 3
   },
   "file_extension": ".py",
   "mimetype": "text/x-python",
   "name": "python",
   "nbconvert_exporter": "python",
   "pygments_lexer": "ipython3",
   "version": "3.10.9"
  },
  "varInspector": {
   "cols": {
    "lenName": 16,
    "lenType": 16,
    "lenVar": 40
   },
   "kernels_config": {
    "python": {
     "delete_cmd_postfix": "",
     "delete_cmd_prefix": "del ",
     "library": "var_list.py",
     "varRefreshCmd": "print(var_dic_list())"
    },
    "r": {
     "delete_cmd_postfix": ") ",
     "delete_cmd_prefix": "rm(",
     "library": "var_list.r",
     "varRefreshCmd": "cat(var_dic_list()) "
    }
   },
   "types_to_exclude": [
    "module",
    "function",
    "builtin_function_or_method",
    "instance",
    "_Feature"
   ],
   "window_display": false
  }
 },
 "nbformat": 4,
 "nbformat_minor": 4
}
